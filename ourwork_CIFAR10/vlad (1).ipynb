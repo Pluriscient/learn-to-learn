{
 "cells": [
  {
   "cell_type": "code",
   "execution_count": 1,
   "metadata": {
    "executionInfo": {
     "elapsed": 4537,
     "status": "ok",
     "timestamp": 1618074083223,
     "user": {
      "displayName": "Vlad Gavra",
      "photoUrl": "",
      "userId": "10874817230795940625"
     },
     "user_tz": -180
    },
    "id": "6mrPob3P35IK"
   },
   "outputs": [],
   "source": [
    "import argparse\n",
    "import operator\n",
    "import sys\n",
    "import torch\n",
    "import torch.nn as nn\n",
    "import torch.nn.functional as F\n",
    "import torch.optim as optim\n",
    "from torch.autograd import Variable\n",
    "from torchvision import datasets, transforms\n",
    "import matplotlib.pyplot as plt\n",
    "import numpy as np\n",
    "import math\n",
    "from functools import reduce\n",
    "from operator import mul\n"
   ]
  },
  {
   "cell_type": "code",
   "execution_count": null,
   "metadata": {
    "id": "bV_CYIDW8vj_"
   },
   "outputs": [],
   "source": []
  },
  {
   "cell_type": "markdown",
   "metadata": {
    "id": "Z5rOCWBb4gkR"
   },
   "source": [
    "## Optimizee Modules:"
   ]
  },
  {
   "cell_type": "code",
   "execution_count": 2,
   "metadata": {
    "executionInfo": {
     "elapsed": 571,
     "status": "ok",
     "timestamp": 1618074815775,
     "user": {
      "displayName": "Vlad Gavra",
      "photoUrl": "",
      "userId": "10874817230795940625"
     },
     "user_tz": -180
    },
    "id": "YMvZ-JqY4aBd"
   },
   "outputs": [],
   "source": [
    "class Model(nn.Module):\n",
    "\n",
    "    def __init__(self):\n",
    "        super(Model, self).__init__()\n",
    "        self.linear1 = nn.Linear(28 * 28, 32)\n",
    "        self.linear2 = nn.Linear(32, 10)\n",
    "\n",
    "    def forward(self, inputs):\n",
    "        x = inputs.view(-1, 28 * 28)\n",
    "        x = F.relu(self.linear1(x))\n",
    "        x = self.linear2(x)\n",
    "        return F.log_softmax(x)\n",
    "\n",
    "# CIFAR10 classifier with 2 lienar layers - should be fast but not amazing\n",
    "class Model_CIFAR10(nn.Module):\n",
    "\n",
    "    def __init__(self):\n",
    "        super(Model_CIFAR10, self).__init__()\n",
    "        self.linear1 = nn.Linear(32 * 32, 50)\n",
    "        self.linear2 = nn.Linear(50, 10)\n",
    "\n",
    "    def forward(self, inputs):\n",
    "        x = inputs.view(-1, 32 * 32 )\n",
    "        x = F.relu(self.linear1(x))\n",
    "        x = self.linear2(x)\n",
    "        return F.log_softmax(x,dim=1)\n",
    "\n",
    "\n",
    " # CIFAR10 classifier with CNN - TO DO\n",
    "class Model_CIFAR10_CNN(nn.Module):\n",
    "    def __init__(self):\n",
    "        super(Model_CIFAR10_CNN, self).__init__()\n",
    "        self.norm1  = nn.BatchNorm2d(num_features = 3)\n",
    "        self.conv1 = nn.Conv2d(3, 6, 5)\n",
    "        self.pool = nn.MaxPool2d(2, 2)\n",
    "\n",
    "        self.norm2  = nn.BatchNorm2d(num_features = 6)\n",
    "        self.conv2 = nn.Conv2d(6, 16, 5)\n",
    "        self.fc1 = nn.Linear(16 * 5 * 5, 32)\n",
    "        self.fc2 = nn.Linear(32, 10)\n",
    "        # self.fc3 = nn.Linear(84, 10)\n",
    "\n",
    "    def forward(self, x):\n",
    "        x = self.norm1(x)\n",
    "        x = self.pool(F.relu(self.conv1(x)))\n",
    "        x = self.norm2(x)\n",
    "        x = self.pool(F.relu(self.conv2(x)))\n",
    "        x = x.view(-1, 16 * 5 * 5)\n",
    "        x = F.relu(self.fc1(x))\n",
    "        x = self.fc2(x)\n",
    "        return F.log_softmax(x,dim=1)\n"
   ]
  },
  {
   "cell_type": "markdown",
   "metadata": {
    "id": "ng244bvf4nq7"
   },
   "source": [
    "##Optmizers: \n",
    " First some useful functions and after the correct optmizer class"
   ]
  },
  {
   "cell_type": "code",
   "execution_count": 3,
   "metadata": {
    "executionInfo": {
     "elapsed": 577,
     "status": "ok",
     "timestamp": 1618074451046,
     "user": {
      "displayName": "Vlad Gavra",
      "photoUrl": "",
      "userId": "10874817230795940625"
     },
     "user_tz": -180
    },
    "id": "2FdIhB5X5AIy"
   },
   "outputs": [],
   "source": [
    "def get_batch(batch_size):\n",
    "    x = torch.randn(batch_size, 10)\n",
    "    x = x - 2 * x.pow(2)\n",
    "    y = x.sum(1)\n",
    "    return x, y\n",
    "\n",
    "def preprocess_gradients(x):\n",
    "    p = 10\n",
    "    eps = 1e-6\n",
    "    indicator = (x.abs() > math.exp(-p)).float()\n",
    "    x1 = (x.abs() + eps).log() / p * indicator - (1 - indicator)\n",
    "    x2 = x.sign() * indicator + math.exp(p) * x * (1 - indicator)\n",
    "\n",
    "    return torch.cat((x1.view(-1,1), x2.view(-1,1)), -1)\n"
   ]
  },
  {
   "cell_type": "code",
   "execution_count": 4,
   "metadata": {
    "executionInfo": {
     "elapsed": 1352,
     "status": "ok",
     "timestamp": 1618074533364,
     "user": {
      "displayName": "Vlad Gavra",
      "photoUrl": "",
      "userId": "10874817230795940625"
     },
     "user_tz": -180
    },
    "id": "P91AhHRG4Z0y"
   },
   "outputs": [],
   "source": [
    "class MetaOptimizer(nn.Module):\n",
    "\n",
    "    def __init__(self, model, num_layers, hidden_size):\n",
    "        super(MetaOptimizer, self).__init__()\n",
    "        self.meta_model = model\n",
    "\n",
    "        self.hidden_size = hidden_size\n",
    "\n",
    "        self.linear1 = nn.Linear(3, hidden_size)\n",
    "        self.ln1 = LayerNorm1D(hidden_size)\n",
    "\n",
    "        self.lstms = []\n",
    "        for i in range(num_layers):\n",
    "            self.lstms.append(LayerNormLSTMCell(hidden_size, hidden_size))\n",
    "\n",
    "        self.linear2 = nn.Linear(hidden_size, 1)\n",
    "        self.linear2.weight.data.mul_(0.1)\n",
    "        self.linear2.bias.data.fill_(0.0)\n",
    "\n",
    "    def cuda(self):\n",
    "        super(MetaOptimizer, self).cuda()\n",
    "        for i in range(len(self.lstms)):\n",
    "            self.lstms[i].cuda()\n",
    "\n",
    "    def reset_lstm(self, keep_states=False, model=None, use_cuda=False):\n",
    "        self.meta_model.reset()\n",
    "        self.meta_model.copy_params_from(model)\n",
    "\n",
    "        if keep_states:\n",
    "            for i in range(len(self.lstms)):\n",
    "                self.hx[i] = Variable(self.hx[i].data)\n",
    "                self.cx[i] = Variable(self.cx[i].data)\n",
    "        else:\n",
    "            self.hx = []\n",
    "            self.cx = []\n",
    "            for i in range(len(self.lstms)):\n",
    "                self.hx.append(Variable(torch.zeros(1, self.hidden_size)))\n",
    "                self.cx.append(Variable(torch.zeros(1, self.hidden_size)))\n",
    "                if use_cuda:\n",
    "                    self.hx[i], self.cx[i] = self.hx[i].cuda(), self.cx[i].cuda()\n",
    "\n",
    "    def forward(self, x):\n",
    "        # Gradients preprocessing\n",
    "        x = torch.tanh(self.ln1(self.linear1(x)))\n",
    "\n",
    "        for i in range(len(self.lstms)):\n",
    "            if x.size(0) != self.hx[i].size(0):\n",
    "                self.hx[i] = self.hx[i].expand(x.size(0), self.hx[i].size(1))\n",
    "                self.cx[i] = self.cx[i].expand(x.size(0), self.cx[i].size(1))\n",
    "\n",
    "            self.hx[i], self.cx[i] = self.lstms[i](x, (self.hx[i], self.cx[i]))\n",
    "            x = self.hx[i]\n",
    "\n",
    "        x = self.linear2(x)\n",
    "        return x.squeeze()\n",
    "\n",
    "    def meta_update(self, model_with_grads, loss):\n",
    "        # First we need to create a flat version of parameters and gradients\n",
    "        grads = []\n",
    "\n",
    "        for module in model_with_grads.children():\n",
    "          if 'weight' in module.state_dict().keys():\n",
    "            # print(module._parameters['weight'])\n",
    "            grads.append(module._parameters['weight'].grad.data.view(-1))\n",
    "            grads.append(module._parameters['bias'].grad.data.view(-1))\n",
    "          \n",
    "\n",
    "        flat_params = self.meta_model.get_flat_params()\n",
    "        flat_grads = preprocess_gradients(torch.cat(grads))   # Pre-processing does not work...\n",
    "        # flat_grads =  torch.cat(grads)\n",
    "\n",
    "        # torch.cat((x1.view(-1,1), x2.view(-1,1)), -1)\n",
    "        inputs = Variable(torch.cat((flat_grads, flat_params.data.unsqueeze(1)), -1))\n",
    "\n",
    "        # Meta update itself\n",
    "        flat_params = flat_params + self(inputs)\n",
    "\n",
    "        self.meta_model.set_flat_params(flat_params)\n",
    "\n",
    "        # Finally, copy values from the meta model to the normal one.\n",
    "        self.meta_model.copy_params_to(model_with_grads)\n",
    "        return self.meta_model.model\n",
    "\n",
    "class FastMetaOptimizer(nn.Module):\n",
    "\n",
    "    def __init__(self, model, num_layers, hidden_size):\n",
    "        super(FastMetaOptimizer, self).__init__()\n",
    "        self.meta_model = model\n",
    "\n",
    "        self.linear1 = nn.Linear(6, 2)\n",
    "        self.linear1.bias.data[0] = 1\n",
    "\n",
    "    def forward(self, x):\n",
    "        # Gradients preprocessing\n",
    "        x = torch.sigmoid(self.linear1(x))\n",
    "        return x.split(1, 1)\n",
    "\n",
    "    def reset_lstm(self, keep_states=False, model=None, use_cuda=False):\n",
    "        self.meta_model.reset()\n",
    "        self.meta_model.copy_params_from(model)\n",
    "\n",
    "        if keep_states:\n",
    "            self.f = Variable(self.f.data)\n",
    "            self.i = Variable(self.i.data)\n",
    "        else:\n",
    "            self.f = Variable(torch.zeros(1, 1))\n",
    "            self.i = Variable(torch.zeros(1, 1))\n",
    "            if use_cuda:\n",
    "                self.f = self.f.cuda()\n",
    "                self.i = self.i.cuda()\n",
    "\n",
    "    def meta_update(self, model_with_grads, loss):\n",
    "        # First we need to create a flat version of parameters and gradients\n",
    "        grads = []\n",
    "\n",
    "        for module in model_with_grads.children():\n",
    "            grads.append(module._parameters['weight'].grad.data.view(-1).unsqueeze(-1))\n",
    "            grads.append(module._parameters['bias'].grad.data.view(-1).unsqueeze(-1))\n",
    "\n",
    "        flat_params = self.meta_model.get_flat_params().unsqueeze(-1)\n",
    "        flat_grads = torch.cat(grads)\n",
    "\n",
    "        self.i = self.i.expand(flat_params.size(0), 1)\n",
    "        self.f = self.f.expand(flat_params.size(0), 1)\n",
    "\n",
    "        loss = loss.expand_as(flat_grads)\n",
    "        inputs = Variable(torch.cat((preprocess_gradients(flat_grads), flat_params.data, loss), 1))\n",
    "        inputs = torch.cat((inputs, self.f, self.i), 1)\n",
    "        self.f, self.i = self(inputs)\n",
    "\n",
    "        # Meta update itself\n",
    "        flat_params = self.f * flat_params - self.i * Variable(flat_grads)\n",
    "        flat_params = flat_params.view(-1)\n",
    "\n",
    "        self.meta_model.set_flat_params(flat_params)\n",
    "\n",
    "        # Finally, copy values from the meta model to the normal one.\n",
    "        self.meta_model.copy_params_to(model_with_grads)\n",
    "        return self.meta_model.model\n",
    "\n",
    "# A helper class that keeps track of meta updates\n",
    "# It's done by replacing parameters with variables and applying updates to\n",
    "# them.\n",
    "\n",
    "\n",
    "class MetaModel:\n",
    "\n",
    "    def __init__(self, model):\n",
    "        self.model = model\n",
    "\n",
    "    def reset(self):\n",
    "        for module in self.model.children():\n",
    "          if 'weight' in module.state_dict().keys():\n",
    "              # print(module._parameters['weight'])\n",
    "              module._parameters['weight'] = Variable(module._parameters['weight'].data)\n",
    "              module._parameters['bias'] = Variable(module._parameters['bias'].data)\n",
    "          \n",
    "    def get_flat_params(self):\n",
    "        params = []\n",
    "        for module in self.model.children():\n",
    "            if 'weight' in module.state_dict().keys():\n",
    "              # print(module._parameters['weight'])\n",
    "              params.append(module._parameters['weight'].view(-1))\n",
    "              params.append(module._parameters['bias'].view(-1))\n",
    "\n",
    "\n",
    "        return torch.cat(params)\n",
    "\n",
    "    def set_flat_params(self, flat_params):\n",
    "        # Restore original shapes\n",
    "        offset = 0\n",
    "        for i, module in enumerate(self.model.children()):\n",
    "            if 'weight' in module.state_dict().keys():\n",
    "              # print(module._parameters['weight'])\n",
    "              weight_shape = module._parameters['weight'].size()\n",
    "              bias_shape = module._parameters['bias'].size()\n",
    "\n",
    "              weight_flat_size = reduce(mul, weight_shape, 1)\n",
    "              bias_flat_size = reduce(mul, bias_shape, 1)\n",
    "\n",
    "              module._parameters['weight'] = flat_params[\n",
    "                  offset:offset + weight_flat_size].view(*weight_shape)\n",
    "              module._parameters['bias'] = flat_params[\n",
    "                  offset + weight_flat_size:offset + weight_flat_size + bias_flat_size].view(*bias_shape)\n",
    "\n",
    "              offset += weight_flat_size + bias_flat_size\n",
    "\n",
    "\n",
    "    def copy_params_from(self, model):\n",
    "        for modelA, modelB in zip(self.model.parameters(), model.parameters()):\n",
    "            modelA.data.copy_(modelB.data)\n",
    "\n",
    "    def copy_params_to(self, model):\n",
    "        for modelA, modelB in zip(self.model.parameters(), model.parameters()):\n",
    "            modelB.data.copy_(modelA.data)\n",
    "\n",
    "\n",
    "#  Two supporting classes\n",
    "class LayerNormLSTMCell(nn.Module):\n",
    "\n",
    "    def __init__(self, num_inputs, num_hidden, forget_gate_bias=-1):\n",
    "        super(LayerNormLSTMCell, self).__init__()\n",
    "\n",
    "        self.forget_gate_bias = forget_gate_bias\n",
    "        self.num_hidden = num_hidden\n",
    "        self.fc_i2h = nn.Linear(num_inputs, 4 * num_hidden)\n",
    "        self.fc_h2h = nn.Linear(num_hidden, 4 * num_hidden)\n",
    "\n",
    "        self.ln_i2h = LayerNorm1D(4 * num_hidden)\n",
    "        self.ln_h2h = LayerNorm1D(4 * num_hidden)\n",
    "\n",
    "        self.ln_h2o = LayerNorm1D(num_hidden)\n",
    "\n",
    "    def forward(self, inputs, state):\n",
    "        hx, cx = state\n",
    "        i2h = self.fc_i2h(inputs)\n",
    "        h2h = self.fc_h2h(hx)\n",
    "        x = self.ln_i2h(i2h) + self.ln_h2h(h2h)\n",
    "        gates = x.split(self.num_hidden, 1)\n",
    "\n",
    "        in_gate = torch.sigmoid(gates[0])\n",
    "        forget_gate = torch.sigmoid(gates[1] + self.forget_gate_bias)\n",
    "        out_gate = torch.sigmoid(gates[2])\n",
    "        in_transform = F.tanh(gates[3])\n",
    "\n",
    "        cx = forget_gate * cx + in_gate * in_transform\n",
    "        hx = out_gate * F.tanh(self.ln_h2o(cx))\n",
    "        return hx, cx\n",
    "\n",
    "\n",
    "\n",
    "class LayerNorm1D(nn.Module):\n",
    "\n",
    "    def __init__(self, num_outputs, eps=1e-5, affine=True):\n",
    "        super(LayerNorm1D, self).__init__()\n",
    "        self.eps = eps\n",
    "        self.weight = nn.Parameter(torch.ones(1, num_outputs))\n",
    "        self.bias = nn.Parameter(torch.zeros(1, num_outputs))\n",
    "\n",
    "    def forward(self, inputs):\n",
    "        input_mean = inputs.mean(1,keepdim=True).expand_as(inputs)\n",
    "        input_std = inputs.std(1,keepdim=True).expand_as(inputs)\n",
    "        x = (inputs - input_mean) / (input_std + self.eps)\n",
    "        return x * self.weight.expand_as(x) + self.bias.expand_as(x)\n"
   ]
  },
  {
   "cell_type": "markdown",
   "metadata": {
    "id": "EBbZvx417K_l"
   },
   "source": [
    "Parse arguments:"
   ]
  },
  {
   "cell_type": "code",
   "execution_count": 5,
   "metadata": {
    "executionInfo": {
     "elapsed": 748,
     "status": "ok",
     "timestamp": 1618074138483,
     "user": {
      "displayName": "Vlad Gavra",
      "photoUrl": "",
      "userId": "10874817230795940625"
     },
     "user_tz": -180
    },
    "id": "et8h7_b64Aye"
   },
   "outputs": [],
   "source": [
    "parser = argparse.ArgumentParser(description='PyTorch REINFORCE example')\n",
    "\n",
    "parser.add_argument('-f')\n",
    "parser.add_argument('--batch_size', type=int, default=100, metavar='N',\n",
    "                    help='batch size (default: %default)')\n",
    "parser.add_argument('--optimizer_steps', type=int, default=50, metavar='N',\n",
    "                    help='number of meta optimizer steps (default: %default)')\n",
    "parser.add_argument('--truncated_bptt_step', type=int, default=25, metavar='N',\n",
    "                    help='step at which it truncates bptt (default: 20)')\n",
    "parser.add_argument('--updates_per_epoch', type=int, default=10, metavar='N',\n",
    "                    help='updates per epoch (default: 10)')\n",
    "parser.add_argument('--max_epoch', type=int, default=200, metavar='N',\n",
    "                    help='number of epoch (default: 10000)')\n",
    "parser.add_argument('--hidden_size', type=int, default=20, metavar='N',\n",
    "                    help='hidden size of the meta optimizer (default: 10)')\n",
    "parser.add_argument('--num_layers', type=int, default=2, metavar='N',\n",
    "                    help='number of LSTM layers (default: 2)')\n",
    "parser.add_argument('--no-cuda', action='store_true', default=False,\n",
    "                    help='enables CUDA training')\n",
    "args = parser.parse_args()\n",
    "args.cuda = not args.no_cuda and torch.cuda.is_available()\n",
    "\n",
    "\n",
    "assert args.optimizer_steps % args.truncated_bptt_step == 0\n",
    "\n",
    "kwargs = {'num_workers': 0, 'pin_memory': True} if args.cuda else {}\n"
   ]
  },
  {
   "cell_type": "markdown",
   "metadata": {
    "id": "Z3MHvCS_7xjz"
   },
   "source": [
    "Now let's donwload, split and visualise the data:"
   ]
  },
  {
   "cell_type": "code",
   "execution_count": 6,
   "metadata": {
    "colab": {
     "base_uri": "https://localhost:8080/",
     "height": 104,
     "referenced_widgets": [
      "ce10225d62ac420797babf7dbaba18de",
      "d08b12a1ba8e423aafb52a603e270c65",
      "892bc17f72a5406f8a86836aa2e1ba92",
      "4876fab548264db0b345758e0821adf2",
      "7de8a349a04046c6a11643a0f06060a4",
      "e88e24eb1e5e4176bb38d867dbd4bdb6",
      "bd903f70507049b3a9e4204131cb129c",
      "cc9be3a63c7f4b3d8f1936d592e2142a"
     ]
    },
    "executionInfo": {
     "elapsed": 8793,
     "status": "ok",
     "timestamp": 1618074149531,
     "user": {
      "displayName": "Vlad Gavra",
      "photoUrl": "",
      "userId": "10874817230795940625"
     },
     "user_tz": -180
    },
    "id": "My0i3_Mx7a33",
    "outputId": "2bdc4bcd-edcc-4a21-ce35-e27bbfd78698"
   },
   "outputs": [
    {
     "name": "stdout",
     "output_type": "stream",
     "text": [
      "Files already downloaded and verified\n"
     ]
    }
   ],
   "source": [
    "#CIFAR10 data - grayscale:\n",
    "# train_loader = torch.utils.data.DataLoader(\n",
    "#     datasets.CIFAR10('./data', train=True, download=True,\n",
    "#                    transform=transforms.Compose([\n",
    "#                        transforms.ToTensor(),\n",
    "#                        transforms.Grayscale(num_output_channels=1)\n",
    "#                    ])),\n",
    "#     batch_size=args.batch_size, shuffle=True, **kwargs)\n",
    "\n",
    "# test_loader = torch.utils.data.DataLoader(\n",
    "#     datasets.CIFAR10('./data', train=False, transform=transforms.Compose([\n",
    "#                        transforms.ToTensor(),\n",
    "#                         transforms.Grayscale(num_output_channels=1)\n",
    "#                    ])),\n",
    "#     batch_size=args.batch_size, shuffle=True, **kwargs)\n",
    "\n",
    "   #CIFAR10 data - coloured:\n",
    "train_loader = torch.utils.data.DataLoader(\n",
    "    datasets.CIFAR10(r'../../dl-datasets/data', train=True, download=True,\n",
    "                   transform=transforms.Compose([\n",
    "                       transforms.ToTensor(),transforms.Normalize((0.5, 0.5, 0.5), (0.5, 0.5, 0.5))\n",
    "                   ])),\n",
    "    batch_size=args.batch_size, shuffle=True, **kwargs)\n",
    "\n",
    "test_loader = torch.utils.data.DataLoader(\n",
    "    datasets.CIFAR10(r'../../dl-datasets/data', train=False, transform=transforms.Compose([\n",
    "                       transforms.ToTensor(),transforms.Normalize((0.5, 0.5, 0.5), (0.5, 0.5, 0.5))\n",
    "                   ])),\n",
    "    batch_size=args.batch_size, shuffle=True, **kwargs)"
   ]
  },
  {
   "cell_type": "markdown",
   "metadata": {
    "id": "eSi6lAcbEp9T"
   },
   "source": [
    "How does the data look like?"
   ]
  },
  {
   "cell_type": "code",
   "execution_count": 7,
   "metadata": {
    "colab": {
     "base_uri": "https://localhost:8080/",
     "height": 305
    },
    "executionInfo": {
     "elapsed": 12003,
     "status": "ok",
     "timestamp": 1618074162907,
     "user": {
      "displayName": "Vlad Gavra",
      "photoUrl": "",
      "userId": "10874817230795940625"
     },
     "user_tz": -180
    },
    "id": "pfk3I66D4CjM",
    "outputId": "50f8fab6-d2a0-4a01-8a2a-44ec8b3f29af"
   },
   "outputs": [
    {
     "name": "stdout",
     "output_type": "stream",
     "text": [
      "Number of batches 500\n",
      "  dog horse   car  deer\n"
     ]
    },
    {
     "data": {
      "image/png": "[encoded data removed]",
      "text/plain": [
       "<Figure size 432x288 with 1 Axes>"
      ]
     },
     "metadata": {
      "needs_background": "light"
     },
     "output_type": "display_data"
    }
   ],
   "source": [
    "import matplotlib.pyplot as plt\n",
    "import numpy as np\n",
    "import torchvision\n",
    "\n",
    "print(\"Number of batches \" + str(len(train_loader)))\n",
    "\n",
    "classes = ('plane', 'car', 'bird', 'cat',\n",
    "           'deer', 'dog', 'frog', 'horse', 'ship', 'truck')\n",
    "\n",
    "def imshow(img):\n",
    "    img = img / 2 + 0.5     # unnormalize\n",
    "    npimg = img.numpy()\n",
    "    plt.imshow(np.transpose(npimg, (1, 2, 0)))\n",
    "\n",
    "\n",
    "# get some random training images\n",
    "dataiter = iter(train_loader)\n",
    "images, labels = dataiter.next()\n",
    "\n",
    "# show images\n",
    "imshow(torchvision.utils.make_grid(images))\n",
    "# print labels\n",
    "print(' '.join('%5s' % classes[labels[j]] for j in range(4)))"
   ]
  },
  {
   "cell_type": "code",
   "execution_count": 8,
   "metadata": {
    "colab": {
     "base_uri": "https://localhost:8080/",
     "height": 522
    },
    "executionInfo": {
     "elapsed": 86047,
     "status": "error",
     "timestamp": 1618075432604,
     "user": {
      "displayName": "Vlad Gavra",
      "photoUrl": "",
      "userId": "10874817230795940625"
     },
     "user_tz": -180
    },
    "id": "UyHIjfDK4Cty",
    "outputId": "aa951408-211d-4b69-848a-0415f5747d0a"
   },
   "outputs": [
    {
     "name": "stdout",
     "output_type": "stream",
     "text": [
      "Number of batches = 500;  batch size = 100. \n"
     ]
    },
    {
     "ename": "NameError",
     "evalue": "name 'x' is not defined",
     "output_type": "error",
     "traceback": [
      "\u001b[1;31m---------------------------------------------------------------------------\u001b[0m",
      "\u001b[1;31mNameError\u001b[0m                                 Traceback (most recent call last)",
      "\u001b[1;32m<ipython-input-8-8de9ab50e7af>\u001b[0m in \u001b[0;36m<module>\u001b[1;34m\u001b[0m\n\u001b[0;32m     35\u001b[0m \u001b[1;33m\u001b[0m\u001b[0m\n\u001b[0;32m     36\u001b[0m         \u001b[1;32mif\u001b[0m \u001b[0margs\u001b[0m\u001b[1;33m.\u001b[0m\u001b[0mcuda\u001b[0m\u001b[1;33m:\u001b[0m\u001b[1;33m\u001b[0m\u001b[1;33m\u001b[0m\u001b[0m\n\u001b[1;32m---> 37\u001b[1;33m             \u001b[0mx\u001b[0m\u001b[1;33m,\u001b[0m \u001b[0my\u001b[0m \u001b[1;33m=\u001b[0m \u001b[0mx\u001b[0m\u001b[1;33m.\u001b[0m\u001b[0mcuda\u001b[0m\u001b[1;33m(\u001b[0m\u001b[1;33m)\u001b[0m\u001b[1;33m,\u001b[0m \u001b[0my\u001b[0m\u001b[1;33m.\u001b[0m\u001b[0mcuda\u001b[0m\u001b[1;33m(\u001b[0m\u001b[1;33m)\u001b[0m\u001b[1;33m\u001b[0m\u001b[1;33m\u001b[0m\u001b[0m\n\u001b[0m\u001b[0;32m     38\u001b[0m         \u001b[0mx\u001b[0m\u001b[1;33m,\u001b[0m \u001b[0my\u001b[0m \u001b[1;33m=\u001b[0m \u001b[0mVariable\u001b[0m\u001b[1;33m(\u001b[0m\u001b[0mx\u001b[0m\u001b[1;33m)\u001b[0m\u001b[1;33m,\u001b[0m \u001b[0mVariable\u001b[0m\u001b[1;33m(\u001b[0m\u001b[0my\u001b[0m\u001b[1;33m)\u001b[0m\u001b[1;33m\u001b[0m\u001b[1;33m\u001b[0m\u001b[0m\n\u001b[0;32m     39\u001b[0m \u001b[1;33m\u001b[0m\u001b[0m\n",
      "\u001b[1;31mNameError\u001b[0m: name 'x' is not defined"
     ]
    }
   ],
   "source": [
    "# Create a meta optimizer that wraps a model into a meta model\n",
    "# to keep track of the meta updates.\n",
    "meta_model = Model_CIFAR10_CNN()\n",
    "if args.cuda:\n",
    "    meta_model.cuda()\n",
    "\n",
    "meta_optimizer = MetaOptimizer(MetaModel(meta_model), args.num_layers, args.hidden_size)\n",
    "if args.cuda:\n",
    "    meta_optimizer.cuda()\n",
    "\n",
    "optimizer = optim.Adam(meta_optimizer.parameters(), lr=0.0005)\n",
    "scheduler = torch.optim.lr_scheduler.StepLR(optimizer, step_size =50 , gamma = 0.8)\n",
    "\n",
    "\n",
    "print(\"Number of batches = {};  batch size = {}. \".format(len(train_loader),args.batch_size))\n",
    "for epoch in range(args.max_epoch):\n",
    "    decrease_in_loss = 0.0\n",
    "    final_loss = 0.0\n",
    "    #Define new iterator\n",
    "    train_iter = iter(train_loader)\n",
    "\n",
    "    #Iteration counter:\n",
    "    num_iter = 0\n",
    "\n",
    "    for i in range(args.updates_per_epoch):\n",
    "\n",
    "        # Sample a fresh model (optimizee)\n",
    "        model = Model_CIFAR10_CNN()\n",
    "        if args.cuda:\n",
    "            model.cuda()\n",
    "        \n",
    "        # x, y = next(train_iter)\n",
    "        # num_iter+=1\n",
    "        # print(\"New update: \" + str(num_iter))\n",
    "\n",
    "        if args.cuda:\n",
    "            x, y = x.cuda(), y.cuda()\n",
    "        x, y = Variable(x), Variable(y)\n",
    "\n",
    "        # Compute initial loss of the model\n",
    "        f_x = model(x)\n",
    "        initial_loss = F.nll_loss(f_x, y)\n",
    "        \n",
    "        for k in range(args.optimizer_steps // args.truncated_bptt_step):    # ~\"epchos\" of the optmizee training\n",
    "            # Keep states for truncated BPTT\n",
    "            meta_optimizer.reset_lstm(\n",
    "                keep_states=k > 0, model=model, use_cuda=args.cuda)\n",
    "\n",
    "            loss_sum = 0\n",
    "            prev_loss = torch.zeros(1)\n",
    "            if args.cuda:\n",
    "                prev_loss = prev_loss.cuda()\n",
    "\n",
    "            for j in range(args.truncated_bptt_step):\n",
    "\n",
    "                x, y = next(train_iter)\n",
    "                # num_iter+=1\n",
    "                # print(\"Optimizer step %i and step %i\" %(k+j,num_iter))\n",
    "\n",
    "                if args.cuda:\n",
    "                    x, y = x.cuda(), y.cuda()\n",
    "                x, y = Variable(x), Variable(y)\n",
    "\n",
    "                # First we need to compute the gradients of the model\n",
    "                f_x = model(x)\n",
    "                loss = F.nll_loss(f_x, y)\n",
    "                \n",
    "                model.zero_grad()\n",
    "                loss.backward()\n",
    "\n",
    "                # Perfom a meta update using gradients from model\n",
    "                # and return the current meta model saved in the optimizer\n",
    "                meta_model = meta_optimizer.meta_update(model, loss.data)\n",
    "\n",
    "                # Compute a loss for a step the meta optimizer\n",
    "                f_x = meta_model(x)\n",
    "                loss = F.nll_loss(f_x, y)\n",
    "\n",
    "                loss_sum += (loss - Variable(prev_loss))\n",
    "\n",
    "                prev_loss = loss.data\n",
    "\n",
    "            # Update the parameters of the meta optimizer (the LSTM network)\n",
    "            meta_optimizer.zero_grad()\n",
    "            loss_sum.backward()\n",
    "            for param in meta_optimizer.parameters():\n",
    "                param.grad.data.clamp_(-1, 1)\n",
    "            optimizer.step()\n",
    "\n",
    "        # Compute relative decrease in the loss function w.r.t initial\n",
    "        # value\n",
    "        \n",
    "        scheduler.step()    # decay learnign rate\n",
    "        decrease_in_loss += loss.data.item() / initial_loss.data.item()\n",
    "        final_loss += loss.data.item()\n",
    "\n",
    "    print(\"Epoch: {}, final loss {}, average final/initial loss ratio: {}\".format(epoch, final_loss / args.updates_per_epoch,\n",
    "                                                                    decrease_in_loss / args.updates_per_epoch))\n"
   ]
  },
  {
   "cell_type": "code",
   "execution_count": null,
   "metadata": {
    "id": "S15iugUH4CWu"
   },
   "outputs": [],
   "source": [
    "torch.save(meta_optimizer, 'CIFARmodel.pt')\n",
    "# torch.save(meta_optimizer.state_dict(),'model_CIFAR10.pt')"
   ]
  },
  {
   "cell_type": "code",
   "execution_count": null,
   "metadata": {
    "colab": {
     "base_uri": "https://localhost:8080/",
     "height": 335
    },
    "executionInfo": {
     "elapsed": 529,
     "status": "error",
     "timestamp": 1617479748919,
     "user": {
      "displayName": "Vlad Gavra",
      "photoUrl": "",
      "userId": "10874817230795940625"
     },
     "user_tz": -180
    },
    "id": "Zr4VVreyQICu",
    "outputId": "bbb2068b-810a-4dc4-87ab-c8320db2438b"
   },
   "outputs": [
    {
     "ename": "TypeError",
     "evalue": "ignored",
     "output_type": "error",
     "traceback": [
      "\u001b[0;31m---------------------------------------------------------------------------\u001b[0m",
      "\u001b[0;31mTypeError\u001b[0m                                 Traceback (most recent call last)",
      "\u001b[0;32m<ipython-input-25-c705986b3850>\u001b[0m in \u001b[0;36m<module>\u001b[0;34m()\u001b[0m\n\u001b[1;32m      1\u001b[0m \u001b[0;32mimport\u001b[0m \u001b[0mtorchsummary\u001b[0m\u001b[0;34m\u001b[0m\u001b[0;34m\u001b[0m\u001b[0m\n\u001b[1;32m      2\u001b[0m \u001b[0;34m\u001b[0m\u001b[0m\n\u001b[0;32m----> 3\u001b[0;31m \u001b[0mtorchsummary\u001b[0m\u001b[0;34m.\u001b[0m\u001b[0msummary\u001b[0m\u001b[0;34m(\u001b[0m\u001b[0;34m(\u001b[0m\u001b[0;36m3\u001b[0m\u001b[0;34m,\u001b[0m\u001b[0;36m32\u001b[0m\u001b[0;34m,\u001b[0m\u001b[0;36m32\u001b[0m\u001b[0;34m)\u001b[0m\u001b[0;34m,\u001b[0m\u001b[0mmeta_optimizer\u001b[0m\u001b[0;34m)\u001b[0m\u001b[0;34m\u001b[0m\u001b[0;34m\u001b[0m\u001b[0m\n\u001b[0m",
      "\u001b[0;32m/usr/local/lib/python3.7/dist-packages/torchsummary/torchsummary.py\u001b[0m in \u001b[0;36msummary\u001b[0;34m(model, input_size, batch_size, device)\u001b[0m\n\u001b[1;32m     58\u001b[0m \u001b[0;34m\u001b[0m\u001b[0m\n\u001b[1;32m     59\u001b[0m     \u001b[0;31m# batch_size of 2 for batchnorm\u001b[0m\u001b[0;34m\u001b[0m\u001b[0;34m\u001b[0m\u001b[0;34m\u001b[0m\u001b[0m\n\u001b[0;32m---> 60\u001b[0;31m     \u001b[0mx\u001b[0m \u001b[0;34m=\u001b[0m \u001b[0;34m[\u001b[0m\u001b[0mtorch\u001b[0m\u001b[0;34m.\u001b[0m\u001b[0mrand\u001b[0m\u001b[0;34m(\u001b[0m\u001b[0;36m2\u001b[0m\u001b[0;34m,\u001b[0m \u001b[0;34m*\u001b[0m\u001b[0min_size\u001b[0m\u001b[0;34m)\u001b[0m\u001b[0;34m.\u001b[0m\u001b[0mtype\u001b[0m\u001b[0;34m(\u001b[0m\u001b[0mdtype\u001b[0m\u001b[0;34m)\u001b[0m \u001b[0;32mfor\u001b[0m \u001b[0min_size\u001b[0m \u001b[0;32min\u001b[0m \u001b[0minput_size\u001b[0m\u001b[0;34m]\u001b[0m\u001b[0;34m\u001b[0m\u001b[0;34m\u001b[0m\u001b[0m\n\u001b[0m\u001b[1;32m     61\u001b[0m     \u001b[0;31m# print(type(x[0]))\u001b[0m\u001b[0;34m\u001b[0m\u001b[0;34m\u001b[0m\u001b[0;34m\u001b[0m\u001b[0m\n\u001b[1;32m     62\u001b[0m \u001b[0;34m\u001b[0m\u001b[0m\n",
      "\u001b[0;31mTypeError\u001b[0m: 'MetaOptimizer' object is not iterable"
     ]
    }
   ],
   "source": [
    "import torchsummary\n",
    "\n",
    "torchsummary.summary((3,32,32),meta_optimizer)"
   ]
  },
  {
   "cell_type": "markdown",
   "metadata": {
    "id": "WuSPOY5auqCL"
   },
   "source": [
    "# Evaluating stuff\n"
   ]
  },
  {
   "cell_type": "code",
   "execution_count": 9,
   "metadata": {
    "colab": {
     "base_uri": "https://localhost:8080/"
    },
    "executionInfo": {
     "elapsed": 3904,
     "status": "ok",
     "timestamp": 1618076328108,
     "user": {
      "displayName": "Vlad Gavra",
      "photoUrl": "",
      "userId": "10874817230795940625"
     },
     "user_tz": -180
    },
    "id": "zRDapcEluqCL",
    "outputId": "5902e3c2-ca77-4ef3-91c4-2353059df782"
   },
   "outputs": [
    {
     "name": "stdout",
     "output_type": "stream",
     "text": [
      "Number of batches = 500;  batch size = 100. \n"
     ]
    },
    {
     "ename": "NameError",
     "evalue": "name 'x' is not defined",
     "output_type": "error",
     "traceback": [
      "\u001b[1;31m---------------------------------------------------------------------------\u001b[0m",
      "\u001b[1;31mNameError\u001b[0m                                 Traceback (most recent call last)",
      "\u001b[1;32m<ipython-input-9-676e73395ce0>\u001b[0m in \u001b[0;36m<module>\u001b[1;34m\u001b[0m\n\u001b[0;32m     39\u001b[0m \u001b[1;33m\u001b[0m\u001b[0m\n\u001b[0;32m     40\u001b[0m     \u001b[1;32mif\u001b[0m \u001b[0margs\u001b[0m\u001b[1;33m.\u001b[0m\u001b[0mcuda\u001b[0m\u001b[1;33m:\u001b[0m\u001b[1;33m\u001b[0m\u001b[1;33m\u001b[0m\u001b[0m\n\u001b[1;32m---> 41\u001b[1;33m         \u001b[0mx\u001b[0m\u001b[1;33m,\u001b[0m \u001b[0my\u001b[0m \u001b[1;33m=\u001b[0m \u001b[0mx\u001b[0m\u001b[1;33m.\u001b[0m\u001b[0mcuda\u001b[0m\u001b[1;33m(\u001b[0m\u001b[1;33m)\u001b[0m\u001b[1;33m,\u001b[0m \u001b[0my\u001b[0m\u001b[1;33m.\u001b[0m\u001b[0mcuda\u001b[0m\u001b[1;33m(\u001b[0m\u001b[1;33m)\u001b[0m\u001b[1;33m\u001b[0m\u001b[1;33m\u001b[0m\u001b[0m\n\u001b[0m\u001b[0;32m     42\u001b[0m     \u001b[0mx\u001b[0m\u001b[1;33m,\u001b[0m \u001b[0my\u001b[0m \u001b[1;33m=\u001b[0m \u001b[0mVariable\u001b[0m\u001b[1;33m(\u001b[0m\u001b[0mx\u001b[0m\u001b[1;33m)\u001b[0m\u001b[1;33m,\u001b[0m \u001b[0mVariable\u001b[0m\u001b[1;33m(\u001b[0m\u001b[0my\u001b[0m\u001b[1;33m)\u001b[0m\u001b[1;33m\u001b[0m\u001b[1;33m\u001b[0m\u001b[0m\n\u001b[0;32m     43\u001b[0m \u001b[1;33m\u001b[0m\u001b[0m\n",
      "\u001b[1;31mNameError\u001b[0m: name 'x' is not defined"
     ]
    }
   ],
   "source": [
    "# Create a meta optimizer that wraps a model into a meta model\n",
    "# to keep track of the meta updates.\n",
    "meta_model = Model_CIFAR10_CNN()\n",
    "if args.cuda:\n",
    "    meta_model.cuda()\n",
    "\n",
    "meta_optimizer = MetaOptimizer(MetaModel(meta_model), args.num_layers, args.hidden_size)\n",
    "if args.cuda:\n",
    "    meta_optimizer.cuda()\n",
    "meta_optimizer.load_state_dict(torch.load(\"model_CIFAR10.pt\"))\n",
    "# optimizer = optim.Adam(meta_optimizer.parameters(), lr=0.0005)\n",
    "# scheduler = torch.optim.lr_scheduler.StepLR(optimizer, step_size =50 , gamma = 0.8)\n",
    "N_TESTS = 2\n",
    "N_EPOCHS = 50\n",
    "losses = []\n",
    "res = np.zeros((N_TESTS, N_EPOCHS))\n",
    "print(\"Number of batches = {};  batch size = {}. \".format(len(train_loader),args.batch_size))\n",
    "\n",
    "for test in range(N_TESTS):\n",
    "    train_iter = iter(train_loader)\n",
    "    \n",
    "    #Iteration counter:\n",
    "    num_iter = 0\n",
    "  \n",
    "    # Sample a fresh model (optimizee)\n",
    "    model = Model_CIFAR10_CNN()\n",
    "    if args.cuda:\n",
    "        model.cuda()\n",
    "\n",
    "    train_iter = iter(train_loader)\n",
    "\n",
    "    meta_optimizer.reset_lstm(\n",
    "           keep_states=False, model=model, use_cuda=args.cuda)\n",
    "#     meta_optimizer.load_state_dict(torch.load(\"model_CIFAR10.pt\"))\n",
    "\n",
    "    # x, y = next(train_iter)\n",
    "    # num_iter+=1\n",
    "    # print(\"New update: \" + str(num_iter))\n",
    "\n",
    "    if args.cuda:\n",
    "        x, y = x.cuda(), y.cuda()\n",
    "    x, y = Variable(x), Variable(y)\n",
    "\n",
    "    # Compute initial loss of the model\n",
    "    f_x = model(x)\n",
    "    initial_loss = F.nll_loss(f_x, y)\n",
    "    # print(f\"initial loss: {initial_loss}\")\n",
    "\n",
    "    for epoch in range(N_EPOCHS):    # ~\"epchos\" of the optmizee training\n",
    "        x, y = next(train_iter)\n",
    "        # num_iter+=1\n",
    "        # print(\"Optimizer step %i and step %i\" %(k+j,num_iter))\n",
    "\n",
    "        if args.cuda:\n",
    "            x, y = x.cuda(), y.cuda()\n",
    "        x, y = Variable(x), Variable(y)\n",
    "\n",
    "        # Forward pass to get: prediction, loss, grads of the model\n",
    "        f_x = model(x)\n",
    "        loss = F.nll_loss(f_x, y)\n",
    "\n",
    "        # Save losses (for plotting)\n",
    "        losses.append(loss.item())\n",
    "        res[test, epoch] = loss.item()\n",
    "\n",
    "        #Backward pass:\n",
    "        model.zero_grad()\n",
    "        loss.backward()\n",
    "\n",
    "        # Update the model parameters: BUGGED\n",
    "        meta_model = meta_optimizer.meta_update(model, loss.data)\n",
    "\n",
    "        model.load_state_dict(meta_model.state_dict())\n",
    "\n",
    "    \n",
    "\n",
    "print(losses)"
   ]
  },
  {
   "cell_type": "code",
   "execution_count": null,
   "metadata": {
    "id": "z_rNG_hIuqCM",
    "outputId": "22ba0bb0-e4d6-4a67-cd6b-b23e5ee0a6cc"
   },
   "outputs": [
    {
     "data": {
      "text/plain": [
       "array([[2.32174587e+00, 1.31780567e+01, 2.17861919e+01, 4.30061913e+01,\n",
       "        2.62413788e+02, 1.00561603e+03, 2.20478052e+03, 5.12142334e+03,\n",
       "        9.24463184e+03, 1.38163359e+04, 2.32876621e+04, 2.85646758e+04,\n",
       "        4.67435469e+04, 4.39013086e+04, 5.22931094e+04, 4.83849883e+04,\n",
       "        5.07208086e+04, 4.20839414e+04, 6.62253281e+04, 4.56762617e+04],\n",
       "       [2.31175947e+00, 1.89275265e+01, 2.56821213e+01, 1.10634338e+02,\n",
       "        4.47699066e+02, 1.63173950e+03, 3.97858472e+03, 8.00193750e+03,\n",
       "        1.57426934e+04, 1.85738594e+04, 3.30416680e+04, 4.01904844e+04,\n",
       "        4.31521719e+04, 5.47474492e+04, 7.01669922e+04, 5.20255781e+04,\n",
       "        5.27822344e+04, 3.28109414e+04, 5.19509531e+04, 8.77544297e+04]])"
      ]
     },
     "execution_count": 12,
     "metadata": {
      "tags": []
     },
     "output_type": "execute_result"
    }
   ],
   "source": [
    "res"
   ]
  },
  {
   "cell_type": "code",
   "execution_count": null,
   "metadata": {
    "id": "mL5PPY6_uqCN",
    "outputId": "5380c551-be8c-4d09-b69a-1418842880b8"
   },
   "outputs": [
    {
     "data": {
      "text/plain": [
       "[<matplotlib.lines.Line2D at 0x2448c8533d0>]"
      ]
     },
     "execution_count": 17,
     "metadata": {
      "tags": []
     },
     "output_type": "execute_result"
    },
    {
     "data": {
      "image/png": "[encoded data removed]",
      "text/plain": [
       "<Figure size 432x288 with 1 Axes>"
      ]
     },
     "metadata": {
      "needs_background": "light",
      "tags": []
     },
     "output_type": "display_data"
    }
   ],
   "source": [
    "plt.plot(res[0])"
   ]
  }
 ],
 "metadata": {
  "accelerator": "GPU",
  "colab": {
   "collapsed_sections": [],
   "name": "vlad.ipynb",
   "provenance": [],
   "toc_visible": true
  },
  "kernelspec": {
   "display_name": "Python 3",
   "language": "python",
   "name": "python3"
  },
  "language_info": {
   "codemirror_mode": {
    "name": "ipython",
    "version": 3
   },
   "file_extension": ".py",
   "mimetype": "text/x-python",
   "name": "python",
   "nbconvert_exporter": "python",
   "pygments_lexer": "ipython3",
   "version": "3.8.5"
  },
  "widgets": {
   "application/vnd.jupyter.widget-state+json": {
    "4876fab548264db0b345758e0821adf2": {
     "model_module": "@jupyter-widgets/controls",
     "model_name": "HTMLModel",
     "state": {
      "_dom_classes": [],
      "_model_module": "@jupyter-widgets/controls",
      "_model_module_version": "1.5.0",
      "_model_name": "HTMLModel",
      "_view_count": null,
      "_view_module": "@jupyter-widgets/controls",
      "_view_module_version": "1.5.0",
      "_view_name": "HTMLView",
      "description": "",
      "description_tooltip": null,
      "layout": "IPY_MODEL_cc9be3a63c7f4b3d8f1936d592e2142a",
      "placeholder": "​",
      "style": "IPY_MODEL_bd903f70507049b3a9e4204131cb129c",
      "value": " 170499072/? [00:20&lt;00:00, 8355032.25it/s]"
     }
    },
    "7de8a349a04046c6a11643a0f06060a4": {
     "model_module": "@jupyter-widgets/controls",
     "model_name": "ProgressStyleModel",
     "state": {
      "_model_module": "@jupyter-widgets/controls",
      "_model_module_version": "1.5.0",
      "_model_name": "ProgressStyleModel",
      "_view_count": null,
      "_view_module": "@jupyter-widgets/base",
      "_view_module_version": "1.2.0",
      "_view_name": "StyleView",
      "bar_color": null,
      "description_width": "initial"
     }
    },
    "892bc17f72a5406f8a86836aa2e1ba92": {
     "model_module": "@jupyter-widgets/controls",
     "model_name": "FloatProgressModel",
     "state": {
      "_dom_classes": [],
      "_model_module": "@jupyter-widgets/controls",
      "_model_module_version": "1.5.0",
      "_model_name": "FloatProgressModel",
      "_view_count": null,
      "_view_module": "@jupyter-widgets/controls",
      "_view_module_version": "1.5.0",
      "_view_name": "ProgressView",
      "bar_style": "success",
      "description": "",
      "description_tooltip": null,
      "layout": "IPY_MODEL_e88e24eb1e5e4176bb38d867dbd4bdb6",
      "max": 170498071,
      "min": 0,
      "orientation": "horizontal",
      "style": "IPY_MODEL_7de8a349a04046c6a11643a0f06060a4",
      "value": 170498071
     }
    },
    "bd903f70507049b3a9e4204131cb129c": {
     "model_module": "@jupyter-widgets/controls",
     "model_name": "DescriptionStyleModel",
     "state": {
      "_model_module": "@jupyter-widgets/controls",
      "_model_module_version": "1.5.0",
      "_model_name": "DescriptionStyleModel",
      "_view_count": null,
      "_view_module": "@jupyter-widgets/base",
      "_view_module_version": "1.2.0",
      "_view_name": "StyleView",
      "description_width": ""
     }
    },
    "cc9be3a63c7f4b3d8f1936d592e2142a": {
     "model_module": "@jupyter-widgets/base",
     "model_name": "LayoutModel",
     "state": {
      "_model_module": "@jupyter-widgets/base",
      "_model_module_version": "1.2.0",
      "_model_name": "LayoutModel",
      "_view_count": null,
      "_view_module": "@jupyter-widgets/base",
      "_view_module_version": "1.2.0",
      "_view_name": "LayoutView",
      "align_content": null,
      "align_items": null,
      "align_self": null,
      "border": null,
      "bottom": null,
      "display": null,
      "flex": null,
      "flex_flow": null,
      "grid_area": null,
      "grid_auto_columns": null,
      "grid_auto_flow": null,
      "grid_auto_rows": null,
      "grid_column": null,
      "grid_gap": null,
      "grid_row": null,
      "grid_template_areas": null,
      "grid_template_columns": null,
      "grid_template_rows": null,
      "height": null,
      "justify_content": null,
      "justify_items": null,
      "left": null,
      "margin": null,
      "max_height": null,
      "max_width": null,
      "min_height": null,
      "min_width": null,
      "object_fit": null,
      "object_position": null,
      "order": null,
      "overflow": null,
      "overflow_x": null,
      "overflow_y": null,
      "padding": null,
      "right": null,
      "top": null,
      "visibility": null,
      "width": null
     }
    },
    "ce10225d62ac420797babf7dbaba18de": {
     "model_module": "@jupyter-widgets/controls",
     "model_name": "HBoxModel",
     "state": {
      "_dom_classes": [],
      "_model_module": "@jupyter-widgets/controls",
      "_model_module_version": "1.5.0",
      "_model_name": "HBoxModel",
      "_view_count": null,
      "_view_module": "@jupyter-widgets/controls",
      "_view_module_version": "1.5.0",
      "_view_name": "HBoxView",
      "box_style": "",
      "children": [
       "IPY_MODEL_892bc17f72a5406f8a86836aa2e1ba92",
       "IPY_MODEL_4876fab548264db0b345758e0821adf2"
      ],
      "layout": "IPY_MODEL_d08b12a1ba8e423aafb52a603e270c65"
     }
    },
    "d08b12a1ba8e423aafb52a603e270c65": {
     "model_module": "@jupyter-widgets/base",
     "model_name": "LayoutModel",
     "state": {
      "_model_module": "@jupyter-widgets/base",
      "_model_module_version": "1.2.0",
      "_model_name": "LayoutModel",
      "_view_count": null,
      "_view_module": "@jupyter-widgets/base",
      "_view_module_version": "1.2.0",
      "_view_name": "LayoutView",
      "align_content": null,
      "align_items": null,
      "align_self": null,
      "border": null,
      "bottom": null,
      "display": null,
      "flex": null,
      "flex_flow": null,
      "grid_area": null,
      "grid_auto_columns": null,
      "grid_auto_flow": null,
      "grid_auto_rows": null,
      "grid_column": null,
      "grid_gap": null,
      "grid_row": null,
      "grid_template_areas": null,
      "grid_template_columns": null,
      "grid_template_rows": null,
      "height": null,
      "justify_content": null,
      "justify_items": null,
      "left": null,
      "margin": null,
      "max_height": null,
      "max_width": null,
      "min_height": null,
      "min_width": null,
      "object_fit": null,
      "object_position": null,
      "order": null,
      "overflow": null,
      "overflow_x": null,
      "overflow_y": null,
      "padding": null,
      "right": null,
      "top": null,
      "visibility": null,
      "width": null
     }
    },
    "e88e24eb1e5e4176bb38d867dbd4bdb6": {
     "model_module": "@jupyter-widgets/base",
     "model_name": "LayoutModel",
     "state": {
      "_model_module": "@jupyter-widgets/base",
      "_model_module_version": "1.2.0",
      "_model_name": "LayoutModel",
      "_view_count": null,
      "_view_module": "@jupyter-widgets/base",
      "_view_module_version": "1.2.0",
      "_view_name": "LayoutView",
      "align_content": null,
      "align_items": null,
      "align_self": null,
      "border": null,
      "bottom": null,
      "display": null,
      "flex": null,
      "flex_flow": null,
      "grid_area": null,
      "grid_auto_columns": null,
      "grid_auto_flow": null,
      "grid_auto_rows": null,
      "grid_column": null,
      "grid_gap": null,
      "grid_row": null,
      "grid_template_areas": null,
      "grid_template_columns": null,
      "grid_template_rows": null,
      "height": null,
      "justify_content": null,
      "justify_items": null,
      "left": null,
      "margin": null,
      "max_height": null,
      "max_width": null,
      "min_height": null,
      "min_width": null,
      "object_fit": null,
      "object_position": null,
      "order": null,
      "overflow": null,
      "overflow_x": null,
      "overflow_y": null,
      "padding": null,
      "right": null,
      "top": null,
      "visibility": null,
      "width": null
     }
    }
   }
  }
 },
 "nbformat": 4,
 "nbformat_minor": 4
}
